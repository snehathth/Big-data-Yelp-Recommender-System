{
 "cells": [
  {
   "cell_type": "code",
   "execution_count": null,
   "metadata": {},
   "outputs": [],
   "source": [
    "import pandas as pd\n",
    "import numpy as np"
   ]
  },
  {
   "cell_type": "code",
   "execution_count": null,
   "metadata": {},
   "outputs": [],
   "source": [
    "df_b = pd.read_json(\"yelp_academic_dataset_business.json\", lines=True)"
   ]
  },
  {
   "cell_type": "code",
   "execution_count": null,
   "metadata": {},
   "outputs": [],
   "source": [
    "len(df_b)"
   ]
  },
  {
   "cell_type": "code",
   "execution_count": null,
   "metadata": {},
   "outputs": [],
   "source": [
    "df_b.columns"
   ]
  },
  {
   "cell_type": "code",
   "execution_count": null,
   "metadata": {},
   "outputs": [],
   "source": [
    "len(df_b[(df_b['city'] == 'Las Vegas') & (df_b['categories'].str.contains('Restaurants'))])"
   ]
  },
  {
   "cell_type": "code",
   "execution_count": null,
   "metadata": {},
   "outputs": [],
   "source": [
    "df_b = df_b[(df_b['city'] == 'Las Vegas') & (df_b['categories'].str.contains('Restaurants'))]"
   ]
  },
  {
   "cell_type": "code",
   "execution_count": null,
   "metadata": {},
   "outputs": [],
   "source": [
    "category = []\n",
    "for i, x in df_b.iterrows():\n",
    "    lis = x['categories'].split(', ')\n",
    "    for j in lis:\n",
    "        if any(substring in j for substring in ['Restaurants','Food']):\n",
    "            pass\n",
    "        else:\n",
    "            value = j\n",
    "            break\n",
    "    if value:\n",
    "        value.strip()\n",
    "        category.append(value)\n",
    "    else:\n",
    "        category = 'None'"
   ]
  },
  {
   "cell_type": "code",
   "execution_count": null,
   "metadata": {},
   "outputs": [],
   "source": [
    "df_b['category'] = category\n",
    "df_b.sample(n=2)"
   ]
  },
  {
   "cell_type": "code",
   "execution_count": null,
   "metadata": {},
   "outputs": [],
   "source": [
    "df_b['category'].unique()"
   ]
  },
  {
   "cell_type": "code",
   "execution_count": null,
   "metadata": {},
   "outputs": [],
   "source": [
    "df_b = df_b[df_b['category'].isin(['Italian', 'Mexican', 'Ice Cream & Frozen Yogurt', 'Chinese',\n",
    "       'Pizza', 'French', 'Buffets', 'Bars', 'Sandwiches',\n",
    "       'Middle Eastern', 'Dive Bars', 'Delis', 'American (Traditional)',\n",
    "       'Steakhouses', 'Seafood', 'Bakeries', 'Coffee & Tea', 'Japanese',\n",
    "       'Thai', 'Tapas/Small Plates', 'Southern', 'Korean',\n",
    "       'Chicken Wings', 'Breakfast & Brunch', 'Street Vendors', 'Burgers',\n",
    "       'Vegetarian', 'Ramen', 'Filipino', 'Vietnamese'\n",
    "       'Desserts', 'American (New)', 'Asian Fusion', 'Noodles', 'Tex-Mex', 'Ethiopian', 'Soup', 'Sushi Bars', 'Gluten-Free', 'Beer',\n",
    "       'Pubs', 'Barbeque', 'Poke', 'Hot Dogs',  'Caribbean','Chicken Shop', 'Cafes', 'Hookah Bars', 'Hawaiian', 'Diners',\n",
    "       'Waffles', 'Brazilian', 'Latin American', 'Wine Bars',\n",
    "       'Salad', 'Bagels', 'Argentine', 'Gastropubs', \n",
    "       'Lounges', 'Cheesesteaks', 'Tapas Bars', 'Grocery', 'Indian',\n",
    "       'Butcher', 'Cajun/Creole', 'Modern European', 'Gelato', 'Donuts',\n",
    "        'Dentists', 'Pasta Shops', 'Greek', 'Mongolian',\n",
    "       'Bistros', 'Arabian', 'Tacos', 'Cocktail Bars', \n",
    "       'Mediterranean', 'Sports Bars',\n",
    "       'Cantonese','Cafeteria', 'Wineries', 'Taiwanese',\n",
    "       'Peruvian', 'Szechuan', 'Vegan', 'Coffee Roasteries',\n",
    "        'Shaved Ice', 'Custom Cakes', 'Patisserie/Cake Shop', 'Spanish',\n",
    "       'Fish & Chips', 'Tea Rooms', 'Cuban', 'Breweries', 'Shanghainese', 'Bubble Tea',\n",
    "       'Themed Cafes', 'Teppanyaki', 'Venezuelan', 'Pretzels', 'Creperies', 'Pakistani',\n",
    "       'Brasseries', 'Singaporean',\n",
    "       'Japanese Curry', 'German', 'Afghan', 'New Mexican Cuisine',\n",
    "       'Pan Asian', 'Gay Bars', 'Beer Bar', 'Hot Pot',\n",
    "       'Seafood Markets', 'Persian/Iranian',\n",
    "       'Irish', 'Conveyor Belt Sushi','Turkish',\n",
    "       'Guamanian', 'Falafel', 'Ukrainian', 'Russian',\n",
    "       'Laotian', 'Smokehouse', 'Puerto Rican',\n",
    "       'Dinner Theater', 'Piano Bars', 'Beer Gardens','British', 'Lebanese',\n",
    "        'African', 'Malaysian', 'South African',\n",
    "       'Belgian', 'Kebab', 'Coffeeshops',\n",
    "       'Colombian', 'Moroccan',\n",
    "       'Acai Bowls'])]"
   ]
  },
  {
   "cell_type": "code",
   "execution_count": null,
   "metadata": {},
   "outputs": [],
   "source": [
    "len(df_b)"
   ]
  },
  {
   "cell_type": "code",
   "execution_count": null,
   "metadata": {},
   "outputs": [],
   "source": [
    "df_b.reset_index(inplace=True)"
   ]
  },
  {
   "cell_type": "code",
   "execution_count": null,
   "metadata": {},
   "outputs": [],
   "source": [
    "df_b.loc[0].attributes"
   ]
  },
  {
   "cell_type": "code",
   "execution_count": null,
   "metadata": {},
   "outputs": [],
   "source": [
    "df_b.loc[0].attributes['RestaurantsPriceRange2']"
   ]
  },
  {
   "cell_type": "code",
   "execution_count": null,
   "metadata": {},
   "outputs": [],
   "source": [
    "df_b['pricerange'] = 1"
   ]
  },
  {
   "cell_type": "code",
   "execution_count": null,
   "metadata": {},
   "outputs": [],
   "source": [
    "for i,x in df_b.iterrows():\n",
    "    try:\n",
    "        df_b.loc[i, 'pricerange'] = df_b.loc[i].attributes['RestaurantsPriceRange2']\n",
    "    except:\n",
    "        df_b.loc[i, 'pricerange'] = 0"
   ]
  },
  {
   "cell_type": "code",
   "execution_count": null,
   "metadata": {},
   "outputs": [],
   "source": [
    "df_b['pricerange'].unique()"
   ]
  },
  {
   "cell_type": "code",
   "execution_count": null,
   "metadata": {},
   "outputs": [],
   "source": [
    "for i,x in df_b.iterrows():\n",
    "    try:\n",
    "        df_b.loc[i, 'OutdoorSeating'] = df_b.loc[i].attributes['OutdoorSeating']\n",
    "        if df_b.loc[i, 'OutdoorSeating'] == 'None':\n",
    "            df_b.loc[i, 'OutdoorSeating'] = 'False'\n",
    "    except:\n",
    "        df_b.loc[i, 'OutdoorSeating'] = 'False'"
   ]
  },
  {
   "cell_type": "code",
   "execution_count": null,
   "metadata": {},
   "outputs": [],
   "source": [
    "df_b['OutdoorSeating'].unique()"
   ]
  },
  {
   "cell_type": "code",
   "execution_count": null,
   "metadata": {},
   "outputs": [],
   "source": [
    "for i,x in df_b.iterrows():\n",
    "    try:\n",
    "        df_b.loc[i, 'WiFi'] = df_b.loc[i].attributes['WiFi']\n",
    "        if df_b.loc[i, 'WiFi'] == \"u'no'\":\n",
    "            df_b.loc[i, 'WiFi'] = 'None'\n",
    "        elif df_b.loc[i, 'WiFi'] == \"'no'\":\n",
    "            df_b.loc[i, 'WiFi'] = 'None'\n",
    "        elif df_b.loc[i, 'WiFi'] == \"'free'\":\n",
    "            df_b.loc[i, 'WiFi'] = 'Free'\n",
    "        elif df_b.loc[i, 'WiFi'] == \"u'free'\":\n",
    "            df_b.loc[i, 'WiFi'] = 'Free'\n",
    "        elif df_b.loc[i, 'WiFi'] == \"'paid'\":\n",
    "            df_b.loc[i, 'WiFi'] = 'Paid'\n",
    "        elif df_b.loc[i, 'WiFi'] == \"u'paid'\":\n",
    "            df_b.loc[i, 'WiFi'] = 'Paid'\n",
    "    except:\n",
    "        df_b.loc[i, 'WiFi'] = 'None'"
   ]
  },
  {
   "cell_type": "code",
   "execution_count": null,
   "metadata": {},
   "outputs": [],
   "source": [
    "df_b['WiFi'].unique()"
   ]
  },
  {
   "cell_type": "code",
   "execution_count": null,
   "metadata": {},
   "outputs": [],
   "source": [
    "for i,x in df_b.iterrows():\n",
    "    try:\n",
    "        df_b.loc[i, 'GoodForKids'] = df_b.loc[i].attributes['GoodForKids']\n",
    "        if df_b.loc[i, 'GoodForKids'] == 'None':\n",
    "            df_b.loc[i, 'GoodForKids'] = 'False'\n",
    "    except:\n",
    "        df_b.loc[i, 'GoodForKids'] = 'False'"
   ]
  },
  {
   "cell_type": "code",
   "execution_count": null,
   "metadata": {},
   "outputs": [],
   "source": [
    "df_b['GoodForKids'].unique()"
   ]
  },
  {
   "cell_type": "code",
   "execution_count": null,
   "metadata": {},
   "outputs": [],
   "source": [
    "for i,x in df_b.iterrows():\n",
    "    try:\n",
    "        df_b.loc[i, 'RestaurantsAttire'] = df_b.loc[i].attributes['RestaurantsAttire']\n",
    "        if df_b.loc[i, 'RestaurantsAttire'] == \"u'formal'\":\n",
    "            df_b.loc[i, 'RestaurantsAttire'] = 'formal'\n",
    "        elif df_b.loc[i, 'RestaurantsAttire'] == \"'formal'\":\n",
    "            df_b.loc[i, 'RestaurantsAttire'] = 'formal'\n",
    "        elif df_b.loc[i, 'RestaurantsAttire'] == \"'casual'\":\n",
    "            df_b.loc[i, 'RestaurantsAttire'] = 'casual'\n",
    "        elif df_b.loc[i, 'RestaurantsAttire'] == \"u'casual'\":\n",
    "            df_b.loc[i, 'RestaurantsAttire'] = 'casual'\n",
    "        elif df_b.loc[i, 'RestaurantsAttire'] == \"'dressy'\":\n",
    "            df_b.loc[i, 'RestaurantsAttire'] = 'dressy'\n",
    "        elif df_b.loc[i, 'RestaurantsAttire'] == \"u'dressy'\":\n",
    "            df_b.loc[i, 'RestaurantsAttire'] = 'dressy'\n",
    "        else:\n",
    "            df_b.loc[i, 'RestaurantsAttire'] = 'casual'\n",
    "    except:\n",
    "        df_b.loc[i, 'RestaurantsAttire'] = 'casual'"
   ]
  },
  {
   "cell_type": "code",
   "execution_count": null,
   "metadata": {},
   "outputs": [],
   "source": [
    "df_b['RestaurantsAttire'].unique()"
   ]
  },
  {
   "cell_type": "code",
   "execution_count": null,
   "metadata": {},
   "outputs": [],
   "source": [
    "df_b.loc[df_b['RestaurantsAttire'] == 'False','RestaurantsAttire'] = 'casual'"
   ]
  },
  {
   "cell_type": "code",
   "execution_count": null,
   "metadata": {},
   "outputs": [],
   "source": [
    "for i,x in df_b.iterrows():\n",
    "    try:\n",
    "        df_b.loc[i, 'Alcohol'] = df_b.loc[i].attributes['Alcohol']\n",
    "        if df_b.loc[i, 'Alcohol'] == \"u'beer_and_wine'\":\n",
    "            df_b.loc[i, 'Alcohol'] = 'beer_and_wine'\n",
    "        elif df_b.loc[i, 'Alcohol'] == \"'beer_and_wine'\":\n",
    "            df_b.loc[i, 'Alcohol'] = 'beer_and_wine'\n",
    "        elif df_b.loc[i, 'Alcohol'] == \"'full_bar'\":\n",
    "            df_b.loc[i, 'Alcohol'] = 'full_bar'\n",
    "        elif df_b.loc[i, 'Alcohol'] == \"u'full_bar'\":\n",
    "            df_b.loc[i, 'Alcohol'] = 'full_bar'\n",
    "        else:\n",
    "            df_b.loc[i, 'Alcohol'] = 'None'\n",
    "        \n",
    "    except:\n",
    "        df_b.loc[i, 'Alcohol'] = 'None'"
   ]
  },
  {
   "cell_type": "code",
   "execution_count": null,
   "metadata": {},
   "outputs": [],
   "source": [
    "df_b['Alcohol'].unique()"
   ]
  },
  {
   "cell_type": "code",
   "execution_count": null,
   "metadata": {},
   "outputs": [],
   "source": [
    "for i,x in df_b.iterrows():\n",
    "    try:\n",
    "        df_b.loc[i, 'Delivery'] = df_b.loc[i].attributes['RestaurantsDelivery']\n",
    "        if df_b.loc[i, 'Delivery'] != 'True':\n",
    "            df_b.loc[i, 'Delivery'] = 'False'\n",
    "    except:\n",
    "        df_b.loc[i, 'Delivery'] = 'False'"
   ]
  },
  {
   "cell_type": "code",
   "execution_count": null,
   "metadata": {},
   "outputs": [],
   "source": [
    "for i,x in df_b.iterrows():\n",
    "    try:\n",
    "        df_b.loc[i, 'Takeout'] = df_b.loc[i].attributes['RestaurantsTakeOut']\n",
    "        if df_b.loc[i, 'Takeout'] != 'True':\n",
    "            df_b.loc[i, 'Takeout'] = 'False'\n",
    "    except:\n",
    "        df_b.loc[i, 'Takeout'] = 'False'"
   ]
  },
  {
   "cell_type": "code",
   "execution_count": null,
   "metadata": {},
   "outputs": [],
   "source": [
    "df_b['Takeout'].unique()"
   ]
  },
  {
   "cell_type": "code",
   "execution_count": null,
   "metadata": {},
   "outputs": [],
   "source": [
    "df_b['Delivery'].unique()"
   ]
  },
  {
   "cell_type": "code",
   "execution_count": null,
   "metadata": {},
   "outputs": [],
   "source": [
    "for i,x in df_b.iterrows():\n",
    "    try:\n",
    "        df_b.loc[i, 'Noise'] = df_b.loc[i].attributes['NoiseLevel']\n",
    "        if df_b.loc[i, 'Noise'] == \"u'loud'\":\n",
    "            df_b.loc[i, 'Noise'] = 'loud'\n",
    "        elif df_b.loc[i, 'Noise'] == \"'loud'\":\n",
    "            df_b.loc[i, 'Noise'] = 'loud'\n",
    "        elif df_b.loc[i, 'Noise'] == \"'very_loud'\":\n",
    "            df_b.loc[i, 'Noise'] = 'loud'\n",
    "        elif df_b.loc[i, 'Noise'] == \"u'very_loud'\":\n",
    "            df_b.loc[i, 'Noise'] = 'loud'\n",
    "        elif df_b.loc[i, 'Noise'] == \"'quiet'\":\n",
    "            df_b.loc[i, 'Noise'] = 'quiet'\n",
    "        elif df_b.loc[i, 'Noise'] == \"u'quiet'\":\n",
    "            df_b.loc[i, 'Noise'] = 'quiet'\n",
    "        else:\n",
    "            df_b.loc[i, 'Noise'] = 'average'\n",
    "\n",
    "    except:\n",
    "        df_b.loc[i, 'Noise'] = 'average'"
   ]
  },
  {
   "cell_type": "code",
   "execution_count": null,
   "metadata": {},
   "outputs": [],
   "source": [
    "df_b['Noise'].unique()"
   ]
  },
  {
   "cell_type": "code",
   "execution_count": null,
   "metadata": {},
   "outputs": [],
   "source": [
    "df_b.columns"
   ]
  },
  {
   "cell_type": "code",
   "execution_count": null,
   "metadata": {},
   "outputs": [],
   "source": [
    "df_b.loc[0].attributes"
   ]
  },
  {
   "cell_type": "code",
   "execution_count": null,
   "metadata": {},
   "outputs": [],
   "source": [
    "for i,x in df_b.iterrows():\n",
    "    try:\n",
    "        df_b.loc[i, 'Reservations'] = df_b.loc[i].attributes['RestaurantsReservations']\n",
    "        if df_b.loc[i, 'Reservations'] != 'True':\n",
    "            df_b.loc[i, 'Reservations'] = 'False'\n",
    "    except:\n",
    "        df_b.loc[i, 'Reservations'] = 'False'"
   ]
  },
  {
   "cell_type": "code",
   "execution_count": null,
   "metadata": {},
   "outputs": [],
   "source": [
    "for i,x in df_b.iterrows():\n",
    "    try:\n",
    "        df_b.loc[i, 'GoodforGroups'] = df_b.loc[i].attributes['RestaurantsGoodForGroups']\n",
    "        if df_b.loc[i, 'GoodforGroups'] != 'True':\n",
    "            df_b.loc[i, 'GoodforGroups'] = 'False'\n",
    "    except:\n",
    "        df_b.loc[i, 'GoodforGroups'] = 'False'"
   ]
  },
  {
   "cell_type": "code",
   "execution_count": null,
   "metadata": {},
   "outputs": [],
   "source": [
    "df_b['Reservations'].unique()"
   ]
  },
  {
   "cell_type": "code",
   "execution_count": null,
   "metadata": {},
   "outputs": [],
   "source": [
    "df_b['GoodforGroups'].unique()"
   ]
  },
  {
   "cell_type": "code",
   "execution_count": null,
   "metadata": {},
   "outputs": [],
   "source": [
    "df_b.loc[0].attributes['Ambience']"
   ]
  },
  {
   "cell_type": "code",
   "execution_count": null,
   "metadata": {},
   "outputs": [],
   "source": [
    "df_b.columns"
   ]
  },
  {
   "cell_type": "code",
   "execution_count": null,
   "metadata": {},
   "outputs": [],
   "source": [
    "df_b.loc[0]"
   ]
  },
  {
   "cell_type": "code",
   "execution_count": null,
   "metadata": {},
   "outputs": [],
   "source": [
    "df_b.drop(columns=['index', 'city', 'state','postal_code','is_open', 'attributes', 'categories', 'hours'], inplace=True)"
   ]
  },
  {
   "cell_type": "code",
   "execution_count": null,
   "metadata": {},
   "outputs": [],
   "source": [
    "df_b.loc[1]"
   ]
  },
  {
   "cell_type": "code",
   "execution_count": null,
   "metadata": {},
   "outputs": [],
   "source": [
    "df_b.to_json(\"Yelp Business Ready.json\")\n",
    "df_b.to_csv(\"Yelp Business Ready.csv\")"
   ]
  },
  {
   "cell_type": "code",
   "execution_count": null,
   "metadata": {},
   "outputs": [],
   "source": [
    "df = pd.read_json(\"yelp_academic_dataset_review.json\", lines=True)"
   ]
  },
  {
   "cell_type": "code",
   "execution_count": null,
   "metadata": {},
   "outputs": [],
   "source": [
    "df.head()"
   ]
  },
  {
   "cell_type": "code",
   "execution_count": null,
   "metadata": {},
   "outputs": [],
   "source": [
    "len(df)"
   ]
  },
  {
   "cell_type": "code",
   "execution_count": null,
   "metadata": {},
   "outputs": [],
   "source": [
    "df = df[df['business_id'].isin(df_b['business_id'])]"
   ]
  },
  {
   "cell_type": "code",
   "execution_count": null,
   "metadata": {},
   "outputs": [],
   "source": [
    "len(df)"
   ]
  },
  {
   "cell_type": "code",
   "execution_count": null,
   "metadata": {},
   "outputs": [],
   "source": [
    "df.columns"
   ]
  },
  {
   "cell_type": "code",
   "execution_count": null,
   "metadata": {},
   "outputs": [],
   "source": [
    "df.drop(columns=['review_id','funny','cool', 'text'], inplace=True)"
   ]
  },
  {
   "cell_type": "code",
   "execution_count": 119,
   "metadata": {},
   "outputs": [],
   "source": [
    "df.reset_index(inplace=True)"
   ]
  },
  {
   "cell_type": "code",
   "execution_count": 121,
   "metadata": {},
   "outputs": [
    {
     "data": {
      "text/plain": [
       "index                              23\n",
       "user_id        2mxBNBeFrgDszqGS5tdEHA\n",
       "business_id    d_L-rfS1vT3JMzgCUGtiow\n",
       "stars                               5\n",
       "useful                              0\n",
       "date              2016-07-25 03:57:19\n",
       "Name: 1, dtype: object"
      ]
     },
     "execution_count": 121,
     "metadata": {},
     "output_type": "execute_result"
    }
   ],
   "source": [
    "df.loc[1]"
   ]
  },
  {
   "cell_type": "code",
   "execution_count": 123,
   "metadata": {},
   "outputs": [
    {
     "data": {
      "text/plain": [
       "array([  0,   1,   7,   5,   3,   9,   2,  13,   4,  17,  18,   6,  22,\n",
       "        11,  34,   8,  10,  61,  12,  23,  20,  14,  31,  38,  25,  16,\n",
       "        27,  32,  15,  71,  19,  26,  36,  21,  30,  28,  24,  41,  48,\n",
       "        52,  33,  54,  39,  44,  59,  47,  64,  35,  42,  40,  37,  45,\n",
       "        46,  65,  57,  43,  62,  55,  68,  93,  73,  29,  60,  53,  92,\n",
       "        98,  58,  72,  49,  56, 123,  51,  91, 215, 171, 109,  63, 107,\n",
       "        87,  85,  50, 156,  70,  67, 175,  95,  96,  83, 104,  94,  90,\n",
       "       106,  84,  86,  97, 193, 101,  81, 124, 113,  89, 141,  88, 102,\n",
       "        79, 143, 150,  78, 114,  69, 128, 126, 190,  80, 112, 139, 103,\n",
       "       146, 158, 115, 122, 135, 137, 235,  66, 163,  74, 127, 116, 200,\n",
       "       207,  75,  82,  99,  76, 133, 100, 129, 108, 142, 121, 111, 145,\n",
       "       105, 110, 131, 153, 119], dtype=int64)"
      ]
     },
     "execution_count": 123,
     "metadata": {},
     "output_type": "execute_result"
    }
   ],
   "source": [
    "df['useful'].unique()"
   ]
  },
  {
   "cell_type": "code",
   "execution_count": 127,
   "metadata": {},
   "outputs": [],
   "source": [
    "df['date'] = pd.to_datetime(df['date'])"
   ]
  },
  {
   "cell_type": "code",
   "execution_count": 131,
   "metadata": {},
   "outputs": [],
   "source": [
    "df.to_json(\"Yelp Reviews Ready.json\")\n",
    "df.to_csv(\"Yelp Reviews Ready.csv\")"
   ]
  },
  {
   "cell_type": "code",
   "execution_count": 132,
   "metadata": {},
   "outputs": [],
   "source": [
    "df_u = pd.read_json(\"yelp_academic_dataset_user.json\", lines=True)"
   ]
  },
  {
   "cell_type": "code",
   "execution_count": 136,
   "metadata": {},
   "outputs": [
    {
     "data": {
      "text/plain": [
       "Index(['user_id', 'name', 'review_count', 'yelping_since', 'useful', 'funny',\n",
       "       'cool', 'elite', 'friends', 'fans', 'average_stars', 'compliment_hot',\n",
       "       'compliment_more', 'compliment_profile', 'compliment_cute',\n",
       "       'compliment_list', 'compliment_note', 'compliment_plain',\n",
       "       'compliment_cool', 'compliment_funny', 'compliment_writer',\n",
       "       'compliment_photos'],\n",
       "      dtype='object')"
      ]
     },
     "execution_count": 136,
     "metadata": {},
     "output_type": "execute_result"
    }
   ],
   "source": [
    "df_u.columns"
   ]
  },
  {
   "cell_type": "code",
   "execution_count": 139,
   "metadata": {},
   "outputs": [
    {
     "data": {
      "text/plain": [
       "index                                                                 2\n",
       "user_id                                          bc8C_eETBWL0olvFSJJd0w\n",
       "name                                                              David\n",
       "review_count                                                         16\n",
       "yelping_since                                       2013-10-04 00:16:10\n",
       "useful                                                               28\n",
       "funny                                                                 8\n",
       "cool                                                                 10\n",
       "elite                                                                  \n",
       "friends               4N-HU_T32hLENLntsNKNBg, pSY2vwWLgWfGVAAiKQzMng...\n",
       "fans                                                                  0\n",
       "average_stars                                                      3.71\n",
       "compliment_hot                                                        0\n",
       "compliment_more                                                       0\n",
       "compliment_profile                                                    0\n",
       "compliment_cute                                                       0\n",
       "compliment_list                                                       0\n",
       "compliment_note                                                       1\n",
       "compliment_plain                                                      0\n",
       "compliment_cool                                                       0\n",
       "compliment_funny                                                      0\n",
       "compliment_writer                                                     0\n",
       "compliment_photos                                                     0\n",
       "Name: 0, dtype: object"
      ]
     },
     "execution_count": 139,
     "metadata": {},
     "output_type": "execute_result"
    }
   ],
   "source": [
    "df_u.loc[0]"
   ]
  },
  {
   "cell_type": "code",
   "execution_count": 138,
   "metadata": {},
   "outputs": [],
   "source": [
    "df_u = df_u[df_u['user_id'].isin(df['user_id'])].reset_index()"
   ]
  },
  {
   "cell_type": "code",
   "execution_count": 201,
   "metadata": {},
   "outputs": [
    {
     "data": {
      "text/plain": [
       "378343"
      ]
     },
     "execution_count": 201,
     "metadata": {},
     "output_type": "execute_result"
    }
   ],
   "source": [
    "len(df_u)"
   ]
  },
  {
   "cell_type": "code",
   "execution_count": 140,
   "metadata": {},
   "outputs": [
    {
     "data": {
      "text/plain": [
       "46.32941801487011"
      ]
     },
     "execution_count": 140,
     "metadata": {},
     "output_type": "execute_result"
    }
   ],
   "source": [
    "df_u['review_count'].mean()"
   ]
  },
  {
   "cell_type": "code",
   "execution_count": 142,
   "metadata": {},
   "outputs": [],
   "source": [
    "df_u. drop(columns =['compliment_hot','elite', 'friends', 'fans', 'name', 'index',\n",
    "       'compliment_more', 'compliment_profile', 'compliment_cute',\n",
    "       'compliment_list', 'compliment_note', 'compliment_plain',\n",
    "       'compliment_cool', 'compliment_funny', 'compliment_writer',\n",
    "       'compliment_photos'], inplace=True)"
   ]
  },
  {
   "cell_type": "code",
   "execution_count": 143,
   "metadata": {},
   "outputs": [
    {
     "data": {
      "text/plain": [
       "user_id          Xj0O2l0bp633ebmG468aZw\n",
       "review_count                       4652\n",
       "yelping_since       2005-07-18 06:22:37\n",
       "useful                             5947\n",
       "funny                              2089\n",
       "cool                               3239\n",
       "average_stars                      3.72\n",
       "Name: 67, dtype: object"
      ]
     },
     "execution_count": 143,
     "metadata": {},
     "output_type": "execute_result"
    }
   ],
   "source": [
    "df_u.loc[67]"
   ]
  },
  {
   "cell_type": "code",
   "execution_count": 202,
   "metadata": {},
   "outputs": [],
   "source": [
    "df_u.to_json(\"Yelp Users Ready.json\")\n",
    "df_u.to_csv(\"Yelp Users Ready.csv\")"
   ]
  },
  {
   "cell_type": "code",
   "execution_count": null,
   "metadata": {},
   "outputs": [],
   "source": []
  }
 ],
 "metadata": {
  "kernelspec": {
   "display_name": "Python 3",
   "language": "python",
   "name": "python3"
  },
  "language_info": {
   "codemirror_mode": {
    "name": "ipython",
    "version": 3
   },
   "file_extension": ".py",
   "mimetype": "text/x-python",
   "name": "python",
   "nbconvert_exporter": "python",
   "pygments_lexer": "ipython3",
   "version": "3.7.4"
  }
 },
 "nbformat": 4,
 "nbformat_minor": 2
}
